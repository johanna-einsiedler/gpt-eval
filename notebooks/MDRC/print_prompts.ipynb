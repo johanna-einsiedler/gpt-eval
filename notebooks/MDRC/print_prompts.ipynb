{
 "cells": [
  {
   "cell_type": "code",
   "execution_count": 10,
   "id": "069a2bd7-89a5-4d95-b71d-56f436426bf7",
   "metadata": {},
   "outputs": [],
   "source": []
  },
  {
   "cell_type": "code",
   "execution_count": 11,
   "id": "ab750a22-80a4-4e4d-bce7-0f4ce6141553",
   "metadata": {},
   "outputs": [],
   "source": [
    "import pandas as pd\n",
    "model ='claude-3-7-sonnet-20250219'\n",
    "file_path = \"../../data/exam_approach/exams/{}/exams_business_and_financial_operations_occupations_CORE_automatable.csv\".format(model)\n",
    "df = pd.read_csv(file_path)\n",
    "task_id_list = df['task_id'].to_list()"
   ]
  },
  {
   "cell_type": "code",
   "execution_count": 9,
   "id": "223c695c-bee6-46bf-b29a-3a9e4289d795",
   "metadata": {},
   "outputs": [],
   "source": []
  },
  {
   "cell_type": "code",
   "execution_count": 14,
   "id": "eceb3485-b764-4e54-a673-ceb6307d2d49",
   "metadata": {},
   "outputs": [],
   "source": []
  },
  {
   "cell_type": "code",
   "execution_count": null,
   "id": "bdd5704d-e3bc-4f0e-8f23-854141cac35f",
   "metadata": {},
   "outputs": [],
   "source": [
    "\n",
    "\n",
    "def read_llm_output(file_path, task_id, prompt_type):\n",
    "    \"\"\"\n",
    "    Reads the output CSV file of a given LLM and retrieves the specified task details.\n",
    "\n",
    "    Args:\n",
    "        file_path (str): Path to the CSV file containing the LLM output.\n",
    "        task_id (str): The task ID to filter.\n",
    "        prompt_type (str): The type of prompt to retrieve (e.g., 'overview', 'instructions').\n",
    "\n",
    "    Returns:\n",
    "        dict: A dictionary containing the task ID, prompt type, and LLM's answer.\n",
    "    \"\"\"\n",
    "    try:\n",
    "        # Load the CSV file\n",
    "        df = pd.read_csv(file_path)\n",
    "\n",
    "        # Filter the DataFrame for the specified task ID\n",
    "        task_row = df[df['task_id'] == task_id]\n",
    "\n",
    "        if task_row.empty:\n",
    "            return {\"error\": f\"Task ID {task_id} not found in the file.\"}\n",
    "\n",
    "        # Retrieve the prompt and answer for the specified prompt type\n",
    "        prompt_column = f\"prompt_{prompt_type}\"\n",
    "        answer_column = f\"answer_{prompt_type}\"\n",
    "\n",
    "        if prompt_column not in df.columns or answer_column not in df.columns:\n",
    "            return {\"error\": f\"Prompt type '{prompt_type}' not found in the file.\"}\n",
    "\n",
    "        prompt = task_row[prompt_column].values[0]\n",
    "        answer = task_row[answer_column].values[0]\n",
    "\n",
    "        return {\n",
    "            \"task_id\": task_id,\n",
    "            \"prompt_type\": prompt_type,\n",
    "            \"prompt\": prompt,\n",
    "            \"answer\": answer\n",
    "        }\n",
    "\n",
    "    except FileNotFoundError:\n",
    "        return {\"error\": f\"File not found: {file_path}\"}\n",
    "    except Exception as e:\n",
    "        return {\"error\": str(e)}\n",
    "\n",
    "# Example usage\n",
    "if __name__ == \"__main__\":\n",
    "    # Specify the path to the LLM output file\n",
    "    file_path = \"../../data/exam_approach/exams/claude-3-7-sonnet-20250219/exams_example.csv\"\n",
    "\n",
    "    # Specify the task ID and prompt type to retrieve\n",
    "    task_id = \"example_task_id\"\n",
    "    prompt_type = \"overview\"  # Can be 'overview', 'instructions', 'materials', etc.\n",
    "\n",
    "    # Call the function\n",
    "    result = read_llm_output(file_path, task_id, prompt_type)\n",
    "\n",
    "    # Print the result\n",
    "    if \"error\" in result:\n",
    "        print(\"Error:\", result[\"error\"])\n",
    "    else:\n",
    "        print(\"Task ID:\", result[\"task_id\"])\n",
    "        print(\"Prompt Type:\", result[\"prompt_type\"])\n",
    "        print(\"Prompt:\", result[\"prompt\"])\n",
    "        print(\"Answer:\", result[\"answer\"])"
   ]
  }
 ],
 "metadata": {
  "kernelspec": {
   "display_name": "Python 3 (ipykernel)",
   "language": "python",
   "name": "python3"
  },
  "language_info": {
   "codemirror_mode": {
    "name": "ipython",
    "version": 3
   },
   "file_extension": ".py",
   "mimetype": "text/x-python",
   "name": "python",
   "nbconvert_exporter": "python",
   "pygments_lexer": "ipython3",
   "version": "3.11.7"
  }
 },
 "nbformat": 4,
 "nbformat_minor": 5
}
